{
 "cells": [
  {
   "cell_type": "code",
   "execution_count": 7,
   "metadata": {},
   "outputs": [
    {
     "name": "stdout",
     "output_type": "stream",
     "text": [
      "thewindisblowing\n",
      "Count of i is 3\n",
      "Count of n is 2\n",
      "Count of w is 2\n"
     ]
    }
   ],
   "source": [
    "# Find Duplicate characters in a string\n",
    "def dup_char(s):              ### Using hashing\n",
    "    count = [0]*25 # or count = [0]*256\n",
    "    for i in range(len(s)):\n",
    "        count[ord(s[i])-97]+=1\n",
    "    k = 0\n",
    "    for i in range(len(count)):\n",
    "        if count[i]>1:\n",
    "            print(\"Count of\",chr(k+97),\"is\",count[i])\n",
    "        k+=1\n",
    "s = input()\n",
    "dup_char(s)\n",
    "\n",
    "## Time Complexity: O(n), where n = length of the string passed\n",
    "\n",
    "## Space Complexity: O(NO_OF_CHARS)"
   ]
  },
  {
   "cell_type": "code",
   "execution_count": 11,
   "metadata": {},
   "outputs": [
    {
     "name": "stdout",
     "output_type": "stream",
     "text": [
      "geeks for geeks\n",
      "Count of g is 2\n",
      "Count of e is 4\n",
      "Count of k is 2\n",
      "Count of s is 2\n",
      "Count of   is 2\n"
     ]
    }
   ],
   "source": [
    "# Find Duplicate characters in a string\n",
    "def dup_char(s):      ### Using dict(maps)\n",
    "    d = {}\n",
    "    for i in range(len(s)):\n",
    "        if s[i] not in d:             \n",
    "            d[s[i]] = 1\n",
    "        else:\n",
    "            d[s[i]]+=1\n",
    "    for i in d.keys():\n",
    "        if d[i]>1:\n",
    "            print(\"Count of\",i,\"is\",d[i])\n",
    "    \n",
    "s = input()\n",
    "dup_char(s)\n",
    "\n",
    "## Time Complexity: O(N log N), \n",
    "# where N = length of the string passed and it generally takes logN time for an element insertion in a map.\n",
    "\n",
    "## Space Complexity: O(K), where K = size of the map (0<=K<=input_string_length)."
   ]
  },
  {
   "cell_type": "code",
   "execution_count": 7,
   "metadata": {},
   "outputs": [
    {
     "name": "stdout",
     "output_type": "stream",
     "text": [
      "AABC\n",
      "CAAB\n",
      "Is Rotation\n"
     ]
    }
   ],
   "source": [
    "# Write a Code to check whether one string is a rotation of another\n",
    "def str_rot(s1,s2):\n",
    "    n = len(s1)\n",
    "    m = len(s2)\n",
    "    if n!=m:\n",
    "        return \"Not rotation\"\n",
    "    temp = s1+s1\n",
    "    if temp.find(s2)!=-1:            #     if temp.count(s2)>0:\n",
    "        return \"Is Rotation\"\n",
    "    else:\n",
    "        return \"Not Rotations\"\n",
    "    \n",
    "s1 = input()\n",
    "s2 = input()\n",
    "print(str_rot(s1,s2))"
   ]
  },
  {
   "cell_type": "code",
   "execution_count": 5,
   "metadata": {},
   "outputs": [
    {
     "name": "stdout",
     "output_type": "stream",
     "text": [
      "geeksskeegskeeggeeks\n",
      "geeksskeeg\n"
     ]
    }
   ],
   "source": [
    "# Longest Palindrome in a String \n",
    "def long_palin(s):\n",
    "    n = len(s)\n",
    "    start = 0\n",
    "    low = 0\n",
    "    high = 0\n",
    "    mxlen = 1\n",
    "    for i in range(1,n):\n",
    "        low = i-1\n",
    "        high = i\n",
    "        while low>=0 and high<n and s[low]==s[high]:\n",
    "            if high-low+1>mxlen:\n",
    "                mxlen = high-low+1\n",
    "                start = low\n",
    "            low-=1\n",
    "            high+=1\n",
    "        low = i-1\n",
    "        high = i+1\n",
    "        while low>=0 and high<n and s[low]==s[high]:\n",
    "            if high-low+1>mxlen:\n",
    "                mxlen = high-low+1\n",
    "                start = low\n",
    "            low-=1\n",
    "            high+=1\n",
    "    return s[start:start+mxlen]\n",
    "s = input()\n",
    "print(long_palin(s))"
   ]
  },
  {
   "cell_type": "code",
   "execution_count": 24,
   "metadata": {},
   "outputs": [
    {
     "name": "stdout",
     "output_type": "stream",
     "text": [
      "ABC\n",
      "C\n",
      "B\n",
      "A\n",
      "AB\n",
      "ABC\n",
      "AC\n",
      "BC\n"
     ]
    }
   ],
   "source": [
    "# Print all subsequences of a string\n",
    "l = set()\n",
    "def print_sub(s,n,ind=-1,k=\"\"):\n",
    "    if ind==n:\n",
    "        return\n",
    "    if len(k)!=0:\n",
    "        l.add(k)\n",
    "    for i in range(ind+1,n):\n",
    "        k+=s[i]\n",
    "        print_sub(s,n,i,k)\n",
    "        k = k[:-1]\n",
    "    return\n",
    "s = input()\n",
    "print_sub(s,len(s))\n",
    "for i in l:\n",
    "    print(i)"
   ]
  },
  {
   "cell_type": "code",
   "execution_count": 28,
   "metadata": {},
   "outputs": [
    {
     "name": "stdout",
     "output_type": "stream",
     "text": [
      "abc\n",
      "a\n",
      "ab\n",
      "abc\n",
      "b\n",
      "bc\n",
      "c\n"
     ]
    }
   ],
   "source": [
    "# Print all subarrays/substrings of a string\n",
    "def print_substr(s):\n",
    "    n = len(s)\n",
    "    for i in range(n):\n",
    "        for j in range(i,n):\n",
    "            k = s[i:j+1]\n",
    "            print(k)\n",
    "s = input()\n",
    "print_substr(s)"
   ]
  },
  {
   "cell_type": "code",
   "execution_count": 32,
   "metadata": {},
   "outputs": [
    {
     "name": "stdout",
     "output_type": "stream",
     "text": [
      "0111100010\n",
      "3\n"
     ]
    }
   ],
   "source": [
    "# Split the binary string into substrings with equal number of 0s and 1s\n",
    "def spl_str(s):\n",
    "    count_0 = 0\n",
    "    count_1 = 0\n",
    "    ans = 0\n",
    "    for i in s:\n",
    "        if i==\"1\":\n",
    "            count_1+=1\n",
    "        else:\n",
    "            count_0+=1\n",
    "        if count_0==count_1:\n",
    "            ans+=1\n",
    "    if count_0!=count_1:\n",
    "        return -1\n",
    "    else:\n",
    "        return ans\n",
    "s = input()\n",
    "print(spl_str(s))"
   ]
  },
  {
   "cell_type": "code",
   "execution_count": 2,
   "metadata": {},
   "outputs": [
    {
     "name": "stdout",
     "output_type": "stream",
     "text": [
      "THIS IS A TEST TEXT\n",
      "TEST\n",
      "Pattern occurs at index: 10\n"
     ]
    }
   ],
   "source": [
    "# Pattern matching(Naive Approach)\n",
    "def naive_patt(t,p):           # T.C.: O((n-m+1)*m)\n",
    "    n = len(t)\n",
    "    m = len(p)\n",
    "    for i in range(n-m+1):\n",
    "        j = 0\n",
    "        while(j<m):\n",
    "            if p[j]!=t[i+j]:\n",
    "                break\n",
    "            j+=1\n",
    "        if j==m:\n",
    "            print(\"Pattern occurs at index:\",i)\n",
    "t = input()\n",
    "p = input()\n",
    "naive_patt(t,p)"
   ]
  },
  {
   "cell_type": "code",
   "execution_count": 6,
   "metadata": {},
   "outputs": [
    {
     "name": "stdout",
     "output_type": "stream",
     "text": [
      "ABCDABEFABCD\n",
      "ABCD\n",
      "Pattern occurs at index: 0\n",
      "Pattern occurs at index: 8\n"
     ]
    }
   ],
   "source": [
    "# Pattern matching(Naive Approach with distinct char in pattern)\n",
    "def naive_pat_dis(t,p):         # T.C.: theta(n) (Linear time)\n",
    "    n = len(t)\n",
    "    m = len(p)\n",
    "    k = 0\n",
    "    for i in range(0,n-m+1,k):\n",
    "        j = 0\n",
    "        while(j<m):\n",
    "            if p[j]!=t[i+j]:\n",
    "                break\n",
    "            j+=1\n",
    "        if j==m:\n",
    "            print(\"Pattern occurs at index\",i)\n",
    "        if j==0:\n",
    "            k = 1\n",
    "        else:\n",
    "            k = j\n",
    "t = input()\n",
    "p = input()\n",
    "naive_patt(t,p)"
   ]
  },
  {
   "cell_type": "code",
   "execution_count": 2,
   "metadata": {},
   "outputs": [
    {
     "data": {
      "text/plain": [
       "False"
      ]
     },
     "execution_count": 2,
     "metadata": {},
     "output_type": "execute_result"
    }
   ],
   "source": [
    "l1 = 'aacd'\n",
    "l2 = 'dac'\n",
    "sorted(l1)==sorted(l2)"
   ]
  },
  {
   "cell_type": "code",
   "execution_count": 1,
   "metadata": {},
   "outputs": [
    {
     "name": "stdout",
     "output_type": "stream",
     "text": [
      "7985interdisciplinary12\n",
      "0346bfghjkmoquvwxz\n"
     ]
    }
   ],
   "source": [
    "def missChar(s):\n",
    "    k = set(s)\n",
    "    num = \"0123456789\"\n",
    "    let = \"abcdefghijklmnopqrstuvwxyz\"\n",
    "    ans = \"\"\n",
    "    for i in num:\n",
    "        if i not in k:\n",
    "            ans+=i\n",
    "    for i in let:\n",
    "        if i not in k:\n",
    "            ans+=i\n",
    "    return ans\n",
    "    \n",
    "s = input()\n",
    "print(missChar(s))"
   ]
  },
  {
   "cell_type": "code",
   "execution_count": 3,
   "metadata": {},
   "outputs": [
    {
     "name": "stdout",
     "output_type": "stream",
     "text": [
      "abcdef\n",
      "abcdef\n"
     ]
    }
   ],
   "source": [
    "# Sliding window........\n",
    "# Longest Substring Without Repeating Characters\n",
    "\n",
    "def long_str(s):\n",
    "    lo = 0                                ### T.C.:- O(N)\n",
    "    hi = 0                                ### S.C.:- O(d), d is no of English alphabets\n",
    "    begin = 0\n",
    "    end = 0\n",
    "    n = len(s)\n",
    "    d = dict()\n",
    "    res = -1\n",
    "    while(hi<n):\n",
    "        if d.get(s[hi]):\n",
    "            while(s[lo]!=s[hi]):\n",
    "                d[s[lo]] = False\n",
    "                lo+=1\n",
    "            lo+=1\n",
    "        else:\n",
    "            d[s[hi]] = True\n",
    "            if hi-lo+1>res:\n",
    "                res = hi-lo+1\n",
    "                begin = lo\n",
    "                end = hi\n",
    "        hi+=1\n",
    "    return s[begin:end+1]\n",
    "    \n",
    "s = input()\n",
    "print(long_str(s))"
   ]
  },
  {
   "cell_type": "code",
   "execution_count": 11,
   "metadata": {},
   "outputs": [
    {
     "name": "stdout",
     "output_type": "stream",
     "text": [
      "aabbcc\n",
      "3\n",
      "aabbcc\n"
     ]
    }
   ],
   "source": [
    "# Sliding window.......\n",
    "# Find the longest substring with k unique characters in a given string\n",
    "\n",
    "def k_dis(s,k):\n",
    "    lo = 0                                    ### T.C.:- O(N)\n",
    "    hi = 0                                    ### S.C.:- O(k)\n",
    "    begin = 0\n",
    "    end = 0\n",
    "    n = len(s)\n",
    "    d = dict()\n",
    "    res = -1\n",
    "    while(hi<n):\n",
    "        if s[hi] in d:\n",
    "            d[s[hi]]+=1\n",
    "        else:\n",
    "            d[s[hi]] = 1\n",
    "        while(len(d)>k):\n",
    "            if d[s[lo]]==1:\n",
    "                del d[s[lo]]\n",
    "            else:\n",
    "                d[s[lo]]-=1\n",
    "            lo+=1\n",
    "        if len(d)==k:\n",
    "            res = max(res,hi-lo+1)\n",
    "            begin = lo\n",
    "            end = hi\n",
    "        hi+=1\n",
    "    return s[begin:end+1]\n",
    "    \n",
    "s = input()\n",
    "k = int(input())\n",
    "print(k_dis(s,k))"
   ]
  }
 ],
 "metadata": {
  "kernelspec": {
   "display_name": "Python 3",
   "language": "python",
   "name": "python3"
  },
  "language_info": {
   "codemirror_mode": {
    "name": "ipython",
    "version": 3
   },
   "file_extension": ".py",
   "mimetype": "text/x-python",
   "name": "python",
   "nbconvert_exporter": "python",
   "pygments_lexer": "ipython3",
   "version": "3.7.6"
  }
 },
 "nbformat": 4,
 "nbformat_minor": 4
}
