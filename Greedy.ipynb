{
 "cells": [
  {
   "cell_type": "code",
   "execution_count": 1,
   "metadata": {},
   "outputs": [
    {
     "name": "stdout",
     "output_type": "stream",
     "text": [
      "49\n",
      "5\n"
     ]
    }
   ],
   "source": [
    "# Greedy algorithm to find minimum number of coins\n",
    "\n",
    "def min_coins(arr,val):           ### T.C.:- O(V)\n",
    "    n = len(arr)                  ### S.C.:- O(1)\n",
    "    coins = 0\n",
    "    for i in range(n-1,-1,-1):\n",
    "        if arr[i]<=val:\n",
    "            coins+=val//arr[i]\n",
    "            val = val%arr[i]\n",
    "        if val==0:\n",
    "            break\n",
    "    return coins\n",
    "    \n",
    "arr = [1,2,5,10,20,50,100,500,1000]\n",
    "val = int(input())\n",
    "print(min_coins(arr,val))"
   ]
  },
  {
   "cell_type": "code",
   "execution_count": null,
   "metadata": {},
   "outputs": [],
   "source": [
    "# N meetings in one room\n",
    "# Expected Time Complexity : O(N*LogN)\n",
    "# Expected Auxilliary Space : O(N)\n",
    "\n",
    "def maximumMeetings(self,n,start,end):\n",
    "    l = []\n",
    "    for i in range(n):\n",
    "        l.append([start[i],end[i]])\n",
    "    k = sorted(l,key = lambda x:x[1])\n",
    "    ans_arr = [k[0]]\n",
    "    for i in range(1,n):\n",
    "        if ans_arr[-1][1]<k[i][0]:\n",
    "            ans_arr.append(k[i])\n",
    "    ans = len(ans_arr)\n",
    "    return ans"
   ]
  },
  {
   "cell_type": "code",
   "execution_count": null,
   "metadata": {},
   "outputs": [],
   "source": [
    "# Minimum number of platforms required for a railway\n",
    "# Expected Time Complexity: O(nLogn)\n",
    "# Expected Auxiliary Space: O(n)\n",
    "\n",
    "def minimumPlatform(self,n,arr,dep):\n",
    "    arr.sort()\n",
    "    dep.sort()\n",
    "    p = 1\n",
    "    max_p = 1\n",
    "    i = 1\n",
    "    j = 0\n",
    "    while(i<n and j<n):\n",
    "        if arr[i]<=dep[j]:\n",
    "            p+=1\n",
    "            i+=1\n",
    "        elif arr[i]>dep[j]:\n",
    "            p-=1\n",
    "            j+=1\n",
    "        if p>max_p:\n",
    "            max_p = p\n",
    "    return max_p"
   ]
  },
  {
   "cell_type": "code",
   "execution_count": null,
   "metadata": {},
   "outputs": [],
   "source": [
    "# Job sequencing Problem\n",
    "# Expected Time Complexity: O(NlogN)\n",
    "# Expected Auxilliary Space: O(N)\n",
    "\n",
    "def JobScheduling(self,Jobs,n):\n",
    "    k = sorted(Jobs,key = lambda x:x.profit,reverse = True)\n",
    "    max_d = 0\n",
    "    for i in range(n):\n",
    "        if k[i].deadline>max_d:\n",
    "            max_d = k[i].deadline\n",
    "    res = [-1]*(max_d+1)\n",
    "    t_jobs = 0\n",
    "    mx_profit = 0\n",
    "    for i in range(n):\n",
    "        for j in range(k[i].deadline,0,-1):\n",
    "            if res[j]==-1:\n",
    "                t_jobs+=1\n",
    "                mx_profit+=k[i].profit\n",
    "                res[j]=i\n",
    "                break\n",
    "    return [t_jobs,mx_profit]"
   ]
  },
  {
   "cell_type": "code",
   "execution_count": null,
   "metadata": {},
   "outputs": [],
   "source": [
    "# Fractional Knapsack Problem\n",
    "# Expected Time Complexity : O(NlogN)\n",
    "# Expected Auxilliary Space: O(1)\n",
    "\n",
    "def fractionalknapsack(self, W,Items,n):\n",
    "    Items.sort(key = lambda x:x.value/x.weight,reverse = True)\n",
    "    currWt = 0\n",
    "    currVal = 0\n",
    "    for i in range(n):\n",
    "        if currWt+Items[i].weight<=W:\n",
    "            currWt+=Items[i].weight\n",
    "            currVal+=Items[i].value\n",
    "        else:\n",
    "            rem = W-currWt\n",
    "            currVal+=(Items[i].value/Items[i].weight)*rem\n",
    "            break\n",
    "    return currVal"
   ]
  },
  {
   "cell_type": "code",
   "execution_count": null,
   "metadata": {},
   "outputs": [],
   "source": [
    "# Activity Selection (it is same as N meeting in one room)\n",
    "# Expected Time Complexity : O(N * Log(N))\n",
    "# Expected Auxilliary Space : O(N)\n",
    "def activitySelection(self,n,start,end):\n",
    "    l = []\n",
    "    for i in range(n):\n",
    "        l.append([start[i],end[i]])\n",
    "    k = sorted(l,key = lambda x:x[1])\n",
    "    ans_arr = [k[0]]\n",
    "    for i in range(1,n):\n",
    "        if ans_arr[-1][1]<k[i][0]:\n",
    "            ans_arr.append(k[i])\n",
    "    ans = len(ans_arr)\n",
    "    return ans"
   ]
  },
  {
   "cell_type": "code",
   "execution_count": null,
   "metadata": {},
   "outputs": [],
   "source": []
  }
 ],
 "metadata": {
  "kernelspec": {
   "display_name": "Python 3",
   "language": "python",
   "name": "python3"
  },
  "language_info": {
   "codemirror_mode": {
    "name": "ipython",
    "version": 3
   },
   "file_extension": ".py",
   "mimetype": "text/x-python",
   "name": "python",
   "nbconvert_exporter": "python",
   "pygments_lexer": "ipython3",
   "version": "3.7.6"
  }
 },
 "nbformat": 4,
 "nbformat_minor": 4
}
