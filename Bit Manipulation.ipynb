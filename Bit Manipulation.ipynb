{
 "cells": [
  {
   "cell_type": "code",
   "execution_count": 1,
   "metadata": {},
   "outputs": [
    {
     "name": "stdout",
     "output_type": "stream",
     "text": [
      "8\n",
      "8\n"
     ]
    }
   ],
   "source": [
    "# Right-most set bit(RSB) mask\n",
    "def rsb_mask(n):\n",
    "    ans = n & -n\n",
    "    return ans\n",
    "    \n",
    "n = int(input())\n",
    "print(rsb_mask(n))"
   ]
  },
  {
   "cell_type": "code",
   "execution_count": 40,
   "metadata": {},
   "outputs": [
    {
     "name": "stdout",
     "output_type": "stream",
     "text": [
      "3\n",
      "1\n"
     ]
    }
   ],
   "source": [
    "# Right-most set bit position\n",
    "import math\n",
    "def rsb(n):\n",
    "    ans = n & -n\n",
    "    if ans:\n",
    "        p = int(math.log2(ans))\n",
    "        return p+1\n",
    "    return 0\n",
    "    \n",
    "n = int(input())\n",
    "print(rsb(n))"
   ]
  },
  {
   "cell_type": "code",
   "execution_count": 1,
   "metadata": {},
   "outputs": [
    {
     "name": "stdout",
     "output_type": "stream",
     "text": [
      "9\n",
      "2\n"
     ]
    }
   ],
   "source": [
    "# Count set bits in an integer(Kernighan's Algorithm)\n",
    "def count_set_bits(n):           # T.C. - O(logn)\n",
    "    c = 0\n",
    "    while(n!=0):\n",
    "        rsb_mask = n & -n\n",
    "        n-=rsb_mask\n",
    "        c+=1\n",
    "    return c\n",
    "\n",
    "n = int(input())\n",
    "print(count_set_bits(n))"
   ]
  },
  {
   "cell_type": "code",
   "execution_count": 9,
   "metadata": {},
   "outputs": [
    {
     "name": "stdout",
     "output_type": "stream",
     "text": [
      "10\n",
      "5\n"
     ]
    }
   ],
   "source": [
    "# Josephus problem\n",
    "import math\n",
    "def jos(n):\n",
    "    p = int(math.log(n,2))\n",
    "    num = 2**p\n",
    "    l = n-num\n",
    "    ans = 2*l+1\n",
    "    return ans\n",
    "    \n",
    "n = int(input())\n",
    "print(jos(n))"
   ]
  },
  {
   "cell_type": "code",
   "execution_count": 10,
   "metadata": {},
   "outputs": [
    {
     "name": "stdout",
     "output_type": "stream",
     "text": [
      "0 4 7 9\n",
      "3\n",
      "4 7\n"
     ]
    }
   ],
   "source": [
    "# Minimum XOR Value Pair\n",
    "def min_xor(arr):\n",
    "    n = len(arr)\n",
    "    arr.sort()\n",
    "    m = (2**31)+1\n",
    "    for i in range(0,n-1):\n",
    "        xor = arr[i]^arr[i+1]\n",
    "        if xor<m:\n",
    "            m = xor\n",
    "            l = []\n",
    "            l.append([arr[i],arr[i+1]])\n",
    "        elif xor==m:\n",
    "            l.append([arr[i],arr[i+1]])\n",
    "    print(m)\n",
    "    return l\n",
    "    \n",
    "arr = list(map(int,input().split()))\n",
    "ans = min_xor(arr)\n",
    "for i in ans:\n",
    "    print(*i,sep=\" \")"
   ]
  },
  {
   "cell_type": "code",
   "execution_count": 9,
   "metadata": {},
   "outputs": [
    {
     "name": "stdout",
     "output_type": "stream",
     "text": [
      "2 1 3 2\n",
      "1 3\n"
     ]
    }
   ],
   "source": [
    "# All repeating except two\n",
    "def two_no(arr):\n",
    "    xor = 0\n",
    "    for i in range(len(arr)):\n",
    "        xor = xor^arr[i]\n",
    "    num = xor & -xor\n",
    "    x = 0\n",
    "    y = 0\n",
    "    for i in range(len(arr)):\n",
    "        if((num & arr[i])==0):\n",
    "            x = x^arr[i]\n",
    "        else:\n",
    "            y = y^arr[i]\n",
    "    n1 = min(x,y)\n",
    "    n2 = max(x,y)\n",
    "    return [n1,n2]\n",
    "    \n",
    "arr = list(map(int,input().split()))\n",
    "ans = two_no(arr)\n",
    "print(*ans,sep=\" \")"
   ]
  },
  {
   "cell_type": "code",
   "execution_count": 3,
   "metadata": {},
   "outputs": [
    {
     "name": "stdout",
     "output_type": "stream",
     "text": [
      "4 3 6 2 1 1\n",
      "1 5\n"
     ]
    }
   ],
   "source": [
    "# Find duplicate and missing number\n",
    "\n",
    "# Naive method - Sorting(T.C.:- O(NlogN))\n",
    "# 2nd Method - Using hashing(array)(T.C.:- O(N), S.C.:- O(N))\n",
    "# 3rd Method - Summation(T.C.:- O(N), S.C.:- O(1))\n",
    "\n",
    "def find_nos(arr):     ### T.C.:- O(N)\n",
    "    n = len(arr)       ### S.C.:- O(1)\n",
    "    xor = 0\n",
    "    for i in range(n):\n",
    "        xor = xor^arr[i]\n",
    "    for i in range(1,n+1):\n",
    "        xor = xor^i\n",
    "    num = xor & -xor\n",
    "    x = 0\n",
    "    y = 0\n",
    "    for i in range(n):\n",
    "        if((arr[i] & num)==0):\n",
    "            x = x^arr[i]\n",
    "        else:\n",
    "            y = y^arr[i]\n",
    "    for i in range(1,n+1):\n",
    "        if((i & num)==0):\n",
    "            x = x^i\n",
    "        else:\n",
    "            y = y^i\n",
    "    for i in arr:\n",
    "        if i==x:\n",
    "            return [x,y]\n",
    "        elif i==y:\n",
    "            return [y,x]\n",
    "    \n",
    "arr = list(map(int,input().split()))\n",
    "ans = find_nos(arr)\n",
    "print(*ans,sep=\" \")"
   ]
  },
  {
   "cell_type": "code",
   "execution_count": 5,
   "metadata": {},
   "outputs": [
    {
     "name": "stdout",
     "output_type": "stream",
     "text": [
      "-2 -2 -4 -3 -3 -3 -2\n",
      "-4\n"
     ]
    }
   ],
   "source": [
    "# Find element that appears once where all others appear thrice\n",
    "# def find_no(arr):          ####### Method 1.........\n",
    "#     tn = (2**31)-1\n",
    "#     tnp1 = 0\n",
    "#     tnp2 = 0\n",
    "#     n = len(arr)\n",
    "#     for i in range(n):\n",
    "#         ctn = tn & arr[i]\n",
    "#         ctnp1 = tnp1 & arr[i]\n",
    "#         ctnp2 = tnp2 & arr[i]\n",
    "        \n",
    "#         tn = tn & (~ctn)\n",
    "#         tnp1 = tnp1 | ctn\n",
    "        \n",
    "#         tnp1 = tnp1 & (~ctnp1)\n",
    "#         tnp2 = tnp2 | ctnp1\n",
    "        \n",
    "#         tnp2 = tnp2 & (~ctnp2)\n",
    "#         tn = tn | ctnp2\n",
    "#     return tnp1\n",
    "    \n",
    "def find_no(arr):\n",
    "    ones = 0\n",
    "    twos = 0\n",
    "    for i in range(len(arr)):\n",
    "        ones = ((ones ^ arr[i]) & ~twos)\n",
    "        twos = ((twos ^ arr[i]) & ~ones)\n",
    "    return ones\n",
    "        \n",
    "arr = list(map(int,input().split()))\n",
    "print(find_no(arr))"
   ]
  }
