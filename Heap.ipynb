{
 "cells": [
  {
   "cell_type": "code",
   "execution_count": 3,
   "metadata": {},
   "outputs": [
    {
     "name": "stdout",
     "output_type": "stream",
     "text": [
      "40\n",
      "30\n",
      "20\n",
      "10\n",
      "\n",
      "30\n",
      "10\n",
      "20\n"
     ]
    }
   ],
   "source": [
    "# Max heap implementation\n",
    "# By default,heapq is min heap. Multiply ele by -1 to get max heap\n",
    "\n",
    "from heapq import heapify,heappush,heappop\n",
    "\n",
    "heap = []\n",
    "heapify(heap)\n",
    "\n",
    "heappush(heap,-1*10)\n",
    "heappush(heap,-1*20)\n",
    "heappush(heap,-1*30)\n",
    "heappush(heap,-1*40)\n",
    "\n",
    "for i in heap:\n",
    "    print(-i)\n",
    "\n",
    "heappop(heap)\n",
    "print(\"\")\n",
    "for i in heap:\n",
    "    print(-i)"
   ]
  },
  {
   "cell_type": "code",
   "execution_count": 6,
   "metadata": {},
   "outputs": [
    {
     "name": "stdout",
     "output_type": "stream",
     "text": [
      "7 8 1 2 4 5\n",
      "4\n",
      "5\n"
     ]
    }
   ],
   "source": [
    "# kth smallest element(Max heap)\n",
    "\n",
    "from heapq import heapify,heappush,heappop\n",
    "\n",
    "def k_sm(arr,k):                                    ### T.C.:- O(NlogK)\n",
    "    heap = []                                       ### S.C.:- O(K)\n",
    "    heapify(heap)\n",
    "    for i in arr:\n",
    "        heappush(heap,-i)\n",
    "        if len(heap)>k:\n",
    "            heappop(heap)\n",
    "    return -heappop(heap)\n",
    "    \n",
    "arr = list(map(int,input().split()))\n",
    "k = int(input())\n",
    "print(k_sm(arr,k))"
   ]
  },
  {
   "cell_type": "code",
   "execution_count": 9,
   "metadata": {},
   "outputs": [
    {
     "name": "stdout",
     "output_type": "stream",
     "text": [
      "1 4 56 2 3\n",
      "1\n",
      "56\n"
     ]
    }
   ],
   "source": [
    "# kth largest element(Min heap)\n",
    "\n",
    "from heapq import heapify,heappush,heappop\n",
    "\n",
    "def k_sm(arr,k):\n",
    "    heap = []                                      ### T.C.:- O(NlogK)\n",
    "    heapify(heap)                                  ### S.C.:- O(K)\n",
    "    for i in arr:\n",
    "        heappush(heap,i)\n",
    "        if len(heap)>k:\n",
    "            heappop(heap)\n",
    "    return heappop(heap)\n",
    "    \n",
    "arr = list(map(int,input().split()))\n",
    "k = int(input())\n",
    "print(k_sm(arr,k))"
   ]
  },
  {
   "cell_type": "code",
   "execution_count": 12,
   "metadata": {},
   "outputs": [
    {
     "name": "stdout",
     "output_type": "stream",
     "text": [
      "4 51 61 2 7 18 9\n",
      "5\n",
      "7 18 9 51 61\n"
     ]
    }
   ],
   "source": [
    "# K largest elements(Min heap)\n",
    "\n",
    "from heapq import heapify,heappush,heappop\n",
    "\n",
    "def k_sm(arr,k):\n",
    "    heap = []                                      ### T.C.:- O(NlogK)\n",
    "    heapify(heap)                                  ### S.C.:- O(K)\n",
    "    for i in arr:\n",
    "        heappush(heap,i)\n",
    "        if len(heap)>k:\n",
    "            heappop(heap)\n",
    "    return heap\n",
    "    \n",
    "arr = list(map(int,input().split()))\n",
    "k = int(input())\n",
    "ans = k_sm(arr,k)\n",
    "print(*ans)"
   ]
  },
  {
   "cell_type": "code",
   "execution_count": 4,
   "metadata": {},
   "outputs": [
    {
     "name": "stdout",
     "output_type": "stream",
     "text": [
      "2 6 3 12 56 8\n",
      "4\n",
      "2 3 6 8 12 56\n"
     ]
    }
   ],
   "source": [
    "# Sort a K Sorted Array(Nearly Sorted)(Min heap)\n",
    "\n",
    "from heapq import heapify,heappush,heappop\n",
    "\n",
    "def nearly_sorted(arr,k):\n",
    "    heap = []\n",
    "    heapify(heap)                                          ### T.C.:- O(NlogK)\n",
    "    ans = []                                               ### S.C.:- O(K)\n",
    "    for i in arr:\n",
    "        heappush(heap,i)\n",
    "        if len(heap)>k:\n",
    "            ans.append(heappop(heap))\n",
    "    while(len(heap)>0):\n",
    "        ans.append(heappop(heap))\n",
    "    return ans\n",
    "    \n",
    "arr = list(map(int,input().split()))\n",
    "k = int(input())\n",
    "ans = nearly_sorted(arr,k)\n",
    "print(*ans)"
   ]
  },
  {
   "cell_type": "code",
   "execution_count": 5,
   "metadata": {},
   "outputs": [
    {
     "name": "stdout",
     "output_type": "stream",
     "text": [
      "12 16 22 30 35 39 42 45 48 50 53 55 56\n",
      "4\n",
      "35\n",
      "42 30 39 35\n"
     ]
    }
   ],
   "source": [
    "# K Closest Numbers(Max heap)\n",
    "\n",
    "from heapq import heapify,heappush,heappop\n",
    "\n",
    "def k_closest(arr,k,x):\n",
    "    heap = []\n",
    "    heapify(heap)\n",
    "    for i in arr:\n",
    "        heappush(heap,[-abs(i-x),i])                        ### T.C.:- O(NlogK)  Sorting based on first value of pair\n",
    "        if len(heap)>k:                                     ### S.C.:- O(K)      Absolute Diff is used as a key\n",
    "            heappop(heap)\n",
    "    ans = []\n",
    "    while(len(heap)>0):\n",
    "        j = heappop(heap)\n",
    "        ans.append(j[1])\n",
    "    return ans\n",
    "    \n",
    "arr = list(map(int,input().split()))\n",
    "k = int(input())\n",
    "x = int(input())\n",
    "ans = k_closest(arr,k,x)\n",
    "print(*ans)"
   ]
  },
  {
   "cell_type": "code",
   "execution_count": 8,
   "metadata": {},
   "outputs": [
    {
     "name": "stdout",
     "output_type": "stream",
     "text": [
      "1 1 1 2 2 3\n",
      "2\n",
      "2 1\n"
     ]
    }
   ],
   "source": [
    "# Top K Frequent Numbers(Min heap)\n",
    "\n",
    "def topKFrequent(nums,k):\n",
    "    d = dict()\n",
    "    for i in nums:                             ### T.C.:- O(NlogK)\n",
    "        if i in d:                             ### S.C.:- O(K)\n",
    "            d[i]+=1\n",
    "        else:\n",
    "            d[i] = 1\n",
    "    heap = []\n",
    "    heapify(heap)\n",
    "    for i in d.keys():\n",
    "        heappush(heap,[d[i],i])                # Frequency is used as a key\n",
    "        if len(heap)>k:\n",
    "            heappop(heap)\n",
    "    ans = []\n",
    "    while(len(heap)>0):\n",
    "        j = heappop(heap)\n",
    "        ans.append(j[1])\n",
    "    return ans\n",
    "\n",
    "nums = list(map(int,input().split()))\n",
    "k = int(input())\n",
    "ans = topKFrequent(nums,k)\n",
    "print(*ans)"
   ]
  },
  {
   "cell_type": "code",
   "execution_count": 10,
   "metadata": {},
   "outputs": [
    {
     "name": "stdout",
     "output_type": "stream",
     "text": [
      "9 9 5 2 9\n",
      "9 9 9 2 5\n"
     ]
    }
   ],
   "source": [
    "# Frequency Sort(Max heap)\n",
    "\n",
    "from heapq import heapify,heappush,heappop\n",
    "\n",
    "def freq_sort(arr):\n",
    "    d = dict()\n",
    "    for i in arr:                          ### T.C.:- O(NlogK)\n",
    "        if i in d:                         ### S.C.:- O(K)\n",
    "            d[i]+=1\n",
    "        else:\n",
    "            d[i] = 1\n",
    "    heap = []\n",
    "    heapify(heap)\n",
    "    for i in d.keys():\n",
    "        heappush(heap,[-d[i],i])\n",
    "    ans = []\n",
    "    while(len(heap)>0):\n",
    "        j = heappop(heap)\n",
    "        f = -j[0]\n",
    "        ele = j[1]\n",
    "        for i in range(f):\n",
    "            ans.append(ele)\n",
    "    return ans\n",
    "    \n",
    "arr = list(map(int,input().split()))\n",
    "ans = freq_sort(arr)\n",
    "print(*ans)"
   ]
  },
  {
   "cell_type": "code",
   "execution_count": null,
   "metadata": {},
   "outputs": [],
   "source": []
  },
  {
   "cell_type": "code",
   "execution_count": null,
   "metadata": {},
   "outputs": [],
   "source": []
  }
 ],
 "metadata": {
  "kernelspec": {
   "display_name": "Python 3",
   "language": "python",
   "name": "python3"
  },
  "language_info": {
   "codemirror_mode": {
    "name": "ipython",
    "version": 3
   },
   "file_extension": ".py",
   "mimetype": "text/x-python",
   "name": "python",
   "nbconvert_exporter": "python",
   "pygments_lexer": "ipython3",
   "version": "3.7.6"
  }
 },
 "nbformat": 4,
 "nbformat_minor": 4
}
